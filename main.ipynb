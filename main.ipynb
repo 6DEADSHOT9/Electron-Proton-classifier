{
 "cells": [
  {
   "cell_type": "code",
   "execution_count": 9,
   "metadata": {},
   "outputs": [],
   "source": [
    "import random\n",
    "import h5py\n",
    "import numpy as np\n",
    "import matplotlib.pyplot as plt\n",
    "from multiprocessing import Pool\n",
    "import time\n",
    "import tensorflow as tf\n",
    "import os\n",
    "import time\n",
    "import gc"
   ]
  },
  {
   "cell_type": "code",
   "execution_count": 10,
   "metadata": {},
   "outputs": [
    {
     "name": "stdout",
     "output_type": "stream",
     "text": [
      "['X', 'y']\n",
      "<HDF5 dataset \"X\": shape (249000, 32, 32, 2), type \"<f4\"> \n",
      " <HDF5 dataset \"y\": shape (249000,), type \"<f4\">\n",
      "(32, 32, 2)\n",
      "[1. 1. 1. ... 1. 1. 1.]\n"
     ]
    }
   ],
   "source": [
    "electron = h5py.File(\"electron\\SingleElectronPt50_IMGCROPS_n249k_RHv1.hdf5\", \"r\")\n",
    "print([x for x in electron])\n",
    "print(electron['X'],\"\\n\",electron['y'])\n",
    "print(electron['X'][0].shape)\n",
    "print((electron['y'][:]))"
   ]
  },
  {
   "cell_type": "code",
   "execution_count": 11,
   "metadata": {},
   "outputs": [
    {
     "name": "stdout",
     "output_type": "stream",
     "text": [
      "['X', 'y']\n",
      "<HDF5 dataset \"X\": shape (249000, 32, 32, 2), type \"<f4\"> \n",
      " <HDF5 dataset \"y\": shape (249000,), type \"<f4\">\n",
      "(32, 32, 2)\n",
      "[0. 0. 0. ... 0. 0. 0.]\n"
     ]
    }
   ],
   "source": [
    "photon = h5py.File(\"photon\\SinglePhotonPt50_IMGCROPS_n249k_RHv1.hdf5\", \"r\")\n",
    "print([x for x in photon])\n",
    "print(photon['X'],\"\\n\",photon['y'])\n",
    "print(photon['X'][0].shape)\n",
    "print((photon['y'][:]))"
   ]
  },
  {
   "cell_type": "code",
   "execution_count": 12,
   "metadata": {},
   "outputs": [
    {
     "name": "stdout",
     "output_type": "stream",
     "text": [
      "166\n"
     ]
    }
   ],
   "source": [
    "def plot_pics(num,cmapclr,cmapclr_):\n",
    "    el1 = electron['X'][num][:,:,0]\n",
    "    el2 = electron['X'][num][:,:,1]\n",
    "\n",
    "    ph1 = photon['X'][num][:,:,0]\n",
    "    ph2 = photon['X'][num][:,:,1]\n",
    "\n",
    "    plt.figure(figsize = (16,16))\n",
    "    \n",
    "    plt.subplot(1,2,1)\n",
    "    plt.title('Hit energy e-')\n",
    "    plt.imshow(el1, cmap=cmapclr, alpha=1)\n",
    "    plt.subplot(1,2,1)\n",
    "    plt.title(\"Time e-\")\n",
    "    plt.imshow(el2, cmap = cmapclr_, alpha=0.4)\n",
    "\n",
    "    plt.subplot(1,2,2)\n",
    "    plt.title('Hit energy ph')\n",
    "    plt.imshow(ph1, cmap = cmapclr, alpha=1)\n",
    "    plt.subplot(1,2,2)\n",
    "    plt.title(\"Time ph\")\n",
    "    plt.imshow(ph2, cmap = cmapclr_, alpha=0.4)\n",
    "\n",
    "xy = ['Accent', 'Accent_r', 'Blues', 'Blues_r', 'BrBG', 'BrBG_r', 'BuGn', 'BuGn_r', 'BuPu', 'BuPu_r', 'CMRmap', 'CMRmap_r', 'Dark2', 'Dark2_r', 'GnBu', 'GnBu_r', 'Greens', 'Greens_r', 'Greys', 'Greys_r', 'OrRd', 'OrRd_r', 'Oranges', 'Oranges_r', 'PRGn', 'PRGn_r', 'Paired', 'Paired_r', 'Pastel1', 'Pastel1_r', 'Pastel2', 'Pastel2_r', 'PiYG', 'PiYG_r', 'PuBu', 'PuBuGn', 'PuBuGn_r', 'PuBu_r', 'PuOr', 'PuOr_r', 'PuRd', 'PuRd_r', 'Purples', 'Purples_r', 'RdBu', 'RdBu_r', 'RdGy', 'RdGy_r', 'RdPu', 'RdPu_r', 'RdYlBu', 'RdYlBu_r', 'RdYlGn', 'RdYlGn_r', 'Reds', 'Reds_r', 'Set1', 'Set1_r', 'Set2', 'Set2_r', 'Set3', 'Set3_r', 'Spectral', 'Spectral_r', 'Wistia', 'Wistia_r', 'YlGn', 'YlGnBu', 'YlGnBu_r', 'YlGn_r', 'YlOrBr', 'YlOrBr_r', 'YlOrRd', 'YlOrRd_r', 'afmhot', 'afmhot_r', 'autumn', 'autumn_r', 'binary', 'binary_r', 'bone', 'bone_r', 'brg', 'brg_r', 'bwr', 'bwr_r', 'cividis', 'cividis_r', 'cool', 'cool_r', 'coolwarm', 'coolwarm_r', 'copper', 'copper_r', 'cubehelix', 'cubehelix_r', 'flag', 'flag_r', 'gist_earth', 'gist_earth_r', 'gist_gray', 'gist_gray_r', 'gist_heat', 'gist_heat_r', 'gist_ncar', 'gist_ncar_r', 'gist_rainbow', 'gist_rainbow_r', 'gist_stern', 'gist_stern_r', 'gist_yarg', 'gist_yarg_r', 'gnuplot', 'gnuplot2', 'gnuplot2_r', 'gnuplot_r', 'gray', 'gray_r', 'hot', 'hot_r', 'hsv', 'hsv_r', 'inferno', 'inferno_r', 'jet', 'jet_r', 'magma', 'magma_r', 'nipy_spectral', 'nipy_spectral_r', 'ocean', 'ocean_r', 'pink', 'pink_r', 'plasma', 'plasma_r', 'prism', 'prism_r', 'rainbow', 'rainbow_r', 'seismic', 'seismic_r', 'spring', 'spring_r', 'summer', 'summer_r', 'tab10', 'tab10_r', 'tab20', 'tab20_r', 'tab20b', 'tab20b_r', 'tab20c', 'tab20c_r', 'terrain', 'terrain_r', 'turbo', 'turbo_r', 'twilight', 'twilight_r', 'twilight_shifted', 'twilight_shifted_r', 'viridis', 'viridis_r', 'winter', 'winter_r']\n",
    "\n",
    "print(len(xy))\n"
   ]
  },
  {
   "cell_type": "code",
   "execution_count": null,
   "metadata": {},
   "outputs": [],
   "source": [
    "print(electron['X'][0].shape)\n",
    "x = random.randint(0,249000)\n",
    "# k = 56\n",
    "print(x)\n",
    "plot_pics(x,'gray_r','rainbow')"
   ]
  },
  {
   "cell_type": "code",
   "execution_count": 14,
   "metadata": {},
   "outputs": [
    {
     "data": {
      "text/plain": [
       "6978"
      ]
     },
     "execution_count": 14,
     "metadata": {},
     "output_type": "execute_result"
    }
   ],
   "source": [
    "del electron_Array, photon_Array\n",
    "gc.collect()"
   ]
  },
  {
   "cell_type": "code",
   "execution_count": 15,
   "metadata": {},
   "outputs": [],
   "source": [
    "# array distribution\n",
    "electron_Array = []\n",
    "photon_Array = []\n",
    "def array_allocator(start,end):\n",
    "    counter = 0\n",
    "    for i in range(start,end):\n",
    "        temp_arr = []\n",
    "        temp_arr.append(electron['X'][i])\n",
    "        temp_arr.append(electron['y'][i])\n",
    "        electron_Array.append(temp_arr)\n",
    "        temp_arr = []\n",
    "        temp_arr.append(photon['X'][i])\n",
    "        temp_arr.append(photon['y'][i])\n",
    "        photon_Array.append(temp_arr)\n",
    "        del temp_arr\n",
    "        gc.collect()\n",
    "        counter += 1\n",
    "        if counter % 10 == 0:\n",
    "            print()\n",
    "        print(counter,end=\" \")\n",
    "train = []\n",
    "train_labels = []\n",
    "def shuffle_and_distributeLabels():\n",
    "    not_train = electron_Array+photon_Array\n",
    "    np.random.shuffle(not_train)\n",
    "    train = not_train[:,0]\n",
    "    train_labels = not_train[:,1]\n",
    "    print(train.shape)\n",
    "    print(train_labels.shape)\n",
    "    print(train,train_labels)\n",
    "\n"
   ]
  },
  {
   "cell_type": "code",
   "execution_count": 17,
   "metadata": {},
   "outputs": [
    {
     "ename": "ValueError",
     "evalue": "setting an array element with a sequence. The requested array has an inhomogeneous shape after 2 dimensions. The detected shape was (100, 2) + inhomogeneous part.",
     "output_type": "error",
     "traceback": [
      "\u001b[1;31m---------------------------------------------------------------------------\u001b[0m",
      "\u001b[1;31mValueError\u001b[0m                                Traceback (most recent call last)",
      "\u001b[1;32me:\\GSOC\\Common Task 1\\main.ipynb Cell 8\u001b[0m in \u001b[0;36m<cell line: 2>\u001b[1;34m()\u001b[0m\n\u001b[0;32m      <a href='vscode-notebook-cell:/e%3A/GSOC/Common%20Task%201/main.ipynb#X13sZmlsZQ%3D%3D?line=0'>1</a>\u001b[0m \u001b[39m# array_allocator(0,100)\u001b[39;00m\n\u001b[1;32m----> <a href='vscode-notebook-cell:/e%3A/GSOC/Common%20Task%201/main.ipynb#X13sZmlsZQ%3D%3D?line=1'>2</a>\u001b[0m shuffle_and_distributeLabels()\n",
      "\u001b[1;32me:\\GSOC\\Common Task 1\\main.ipynb Cell 8\u001b[0m in \u001b[0;36mshuffle_and_distributeLabels\u001b[1;34m()\u001b[0m\n\u001b[0;32m     <a href='vscode-notebook-cell:/e%3A/GSOC/Common%20Task%201/main.ipynb#X13sZmlsZQ%3D%3D?line=22'>23</a>\u001b[0m \u001b[39mdef\u001b[39;00m \u001b[39mshuffle_and_distributeLabels\u001b[39m():\n\u001b[1;32m---> <a href='vscode-notebook-cell:/e%3A/GSOC/Common%20Task%201/main.ipynb#X13sZmlsZQ%3D%3D?line=23'>24</a>\u001b[0m     not_train \u001b[39m=\u001b[39m np\u001b[39m.\u001b[39;49mconcatenate((electron_Array,photon_Array),axis\u001b[39m=\u001b[39;49m\u001b[39m0\u001b[39;49m)\n\u001b[0;32m     <a href='vscode-notebook-cell:/e%3A/GSOC/Common%20Task%201/main.ipynb#X13sZmlsZQ%3D%3D?line=24'>25</a>\u001b[0m     np\u001b[39m.\u001b[39mrandom\u001b[39m.\u001b[39mshuffle(not_train)\n\u001b[0;32m     <a href='vscode-notebook-cell:/e%3A/GSOC/Common%20Task%201/main.ipynb#X13sZmlsZQ%3D%3D?line=25'>26</a>\u001b[0m     train \u001b[39m=\u001b[39m not_train[:,\u001b[39m0\u001b[39m]\n",
      "File \u001b[1;32m<__array_function__ internals>:200\u001b[0m, in \u001b[0;36mconcatenate\u001b[1;34m(*args, **kwargs)\u001b[0m\n",
      "\u001b[1;31mValueError\u001b[0m: setting an array element with a sequence. The requested array has an inhomogeneous shape after 2 dimensions. The detected shape was (100, 2) + inhomogeneous part."
     ]
    }
   ],
   "source": [
    "# array_allocator(0,100)\n",
    "shuffle_and_distributeLabels()"
   ]
  },
  {
   "cell_type": "code",
   "execution_count": 5,
   "metadata": {},
   "outputs": [],
   "source": [
    "labels = {'electron':1,'photon':0}"
   ]
  },
  {
   "attachments": {},
   "cell_type": "markdown",
   "metadata": {},
   "source": [
    "Train the model in 20 batches coz low resources"
   ]
  },
  {
   "cell_type": "code",
   "execution_count": 3,
   "metadata": {},
   "outputs": [
    {
     "name": "stdout",
     "output_type": "stream",
     "text": [
      "1\n",
      "2\n",
      "3\n",
      "4\n",
      "5\n",
      "6\n",
      "7\n",
      "8\n",
      "9\n",
      "10\n",
      "11\n",
      "12\n",
      "13\n",
      "14\n",
      "15\n",
      "16\n",
      "17\n",
      "18\n",
      "19\n",
      "20\n"
     ]
    }
   ],
   "source": [
    "\n",
    "\n",
    "for i in range(1,21):\n",
    "    \n",
    "    electron_Array = []\n",
    "    photon_Array = []\n",
    "    array_allocator(i*12450,i*12450+12450)\n",
    "    # time to fit model\n"
   ]
  }
 ],
 "metadata": {
  "kernelspec": {
   "display_name": "Python 3",
   "language": "python",
   "name": "python3"
  },
  "language_info": {
   "codemirror_mode": {
    "name": "ipython",
    "version": 3
   },
   "file_extension": ".py",
   "mimetype": "text/x-python",
   "name": "python",
   "nbconvert_exporter": "python",
   "pygments_lexer": "ipython3",
   "version": "3.10.5"
  },
  "orig_nbformat": 4,
  "vscode": {
   "interpreter": {
    "hash": "fb4569285eef3a3450cb62085a5b1e0da4bce0af555edc33dcf29baf3acc1368"
   }
  }
 },
 "nbformat": 4,
 "nbformat_minor": 2
}
